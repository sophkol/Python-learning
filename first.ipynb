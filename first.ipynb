{
 "cells": [
  {
   "cell_type": "code",
   "execution_count": 1,
   "metadata": {},
   "outputs": [
    {
     "name": "stdout",
     "output_type": "stream",
     "text": [
      "{'id': '1', 'first name': 'John', 'last name': 'Doe', 'age': '32', 'city': 'New York', 'job title': 'Engineer'}\n",
      "{'id': '2', 'first name': 'Jane', 'last name': 'Smith', 'age': '27', 'city': 'Los Angeles', 'job title': 'Designer'}\n",
      "{'id': '3', 'first name': 'Bob', 'last name': 'Brown', 'age': '29', 'city': 'Chicago', 'job title': 'Teacher'}\n",
      "{'id': '4', 'first name': 'Alice', 'last name': 'Johnson', 'age': '31', 'city': 'Miami', 'job title': 'Doctor'}\n",
      "{'id': '5', 'first name': 'Charlie', 'last name': 'Williams', 'age': '28', 'city': 'Dallas', 'job title': 'Lawyer'}\n",
      "{'id': '6', 'first name': 'Emily', 'last name': 'Miller', 'age': '35', 'city': 'San Francisco', 'job title': 'Architect'}\n",
      "{'id': '7', 'first name': 'David', 'last name': 'Anderson', 'age': '30', 'city': 'Phoenix', 'job title': 'Accountant'}\n",
      "{'id': '8', 'first name': 'Sophia', 'last name': 'Taylor', 'age': '29', 'city': 'Philadelphia', 'job title': 'Nurse'}\n",
      "{'id': '9', 'first name': 'Michael', 'last name': 'White', 'age': '33', 'city': 'Houston', 'job title': 'Programmer'}\n",
      "{'id': '10', 'first name': 'Lucy', 'last name': 'Green', 'age': '25', 'city': 'Atlanta', 'job title': 'Photographer'}\n",
      "{'id': '11', 'first name': 'William', 'last name': 'Turner', 'age': '40', 'city': 'Seattle', 'job title': 'Manager'}\n",
      "{'id': '12', 'first name': 'Ella', 'last name': 'Jones', 'age': '26', 'city': 'Boston', 'job title': 'Journalist'}\n",
      "{'id': '13', 'first name': 'James', 'last name': 'Robinson', 'age': '36', 'city': 'San Diego', 'job title': 'Consultant'}\n",
      "{'id': '14', 'first name': 'Lily', 'last name': 'Clark', 'age': '29', 'city': 'Denver', 'job title': 'Artist'}\n",
      "{'id': '15', 'first name': 'Joseph', 'last name': 'Lee', 'age': '33', 'city': 'Austin', 'job title': 'Scientist'}\n",
      "{'id': '16', 'first name': 'Chloe', 'last name': 'Moore', 'age': '28', 'city': 'Indianapolis', 'job title': 'Entrepreneur'}\n",
      "{'id': '17', 'first name': 'Andrew', 'last name': 'Harris', 'age': '34', 'city': 'San Jose', 'job title': 'Dentist'}\n",
      "{'id': '18', 'first name': 'Mia', 'last name': 'Thompson', 'age': '30', 'city': 'Nashville', 'job title': 'Pharmacist'}\n",
      "{'id': '19', 'first name': 'Thomas', 'last name': 'Young', 'age': '31', 'city': 'Columbus', 'job title': 'Chef'}\n",
      "{'id': '20', 'first name': 'Isabella', 'last name': 'Hall', 'age': '29', 'city': 'Charlotte', 'job title': 'HR Specialist'}\n",
      "{'id': '21', 'first name': 'Daniel', 'last name': 'Evans', 'age': '28', 'city': 'Portland', 'job title': 'Financial Analyst'}\n",
      "{'id': '22', 'first name': 'Olivia', 'last name': 'King', 'age': '27', 'city': 'Las Vegas', 'job title': 'Real Estate Agent'}\n",
      "{'id': '23', 'first name': 'Benjamin', 'last name': 'Lopez', 'age': '32', 'city': 'San Antonio', 'job title': 'Veterinarian'}\n",
      "{'id': '24', 'first name': 'Grace', 'last name': 'Wright', 'age': '26', 'city': 'Memphis', 'job title': 'Marketer'}\n",
      "{'id': '25', 'first name': 'Matthew', 'last name': 'Martin', 'age': '34', 'city': 'Baltimore', 'job title': 'Physical Therapist'}\n",
      "{'id': '26', 'first name': 'Eva', 'last name': 'Hill', 'age': '28', 'city': 'El Paso', 'job title': 'Librarian'}\n",
      "{'id': '27', 'first name': 'Christopher', 'last name': 'Adams', 'age': '31', 'city': 'Oklahoma City', 'job title': 'Banker'}\n",
      "{'id': '28', 'first name': 'Anna', 'last name': 'Allen', 'age': '25', 'city': 'Tucson', 'job title': 'Editor'}\n",
      "{'id': '29', 'first name': 'Alexander', 'last name': 'Gonzalez', 'age': '33', 'city': 'New Orleans', 'job title': 'Mechanic'}\n",
      "{'id': '30', 'first name': 'Samantha', 'last name': 'Perez', 'age': '32', 'city': 'Cleveland', 'job title': 'Biologist'}\n"
     ]
    }
   ],
   "source": [
    "import csv\n",
    "with open (\"./Data.csv\")as fp:\n",
    "    reader=csv.DictReader (fp)\n",
    "    for line in reader:\n",
    "        print(line)"
   ]
  },
  {
   "cell_type": "code",
   "execution_count": 8,
   "metadata": {},
   "outputs": [
    {
     "name": "stdout",
     "output_type": "stream",
     "text": [
      "{'id': '1', 'first name': 'John', 'last name': 'Doe', 'age': '32', 'city': 'New York', 'job title': 'Engineer'}\n",
      "{'id': '4', 'first name': 'Alice', 'last name': 'Johnson', 'age': '31', 'city': 'Miami', 'job title': 'Doctor'}\n",
      "{'id': '6', 'first name': 'Emily', 'last name': 'Miller', 'age': '35', 'city': 'San Francisco', 'job title': 'Architect'}\n",
      "{'id': '7', 'first name': 'David', 'last name': 'Anderson', 'age': '30', 'city': 'Phoenix', 'job title': 'Accountant'}\n",
      "{'id': '9', 'first name': 'Michael', 'last name': 'White', 'age': '33', 'city': 'Houston', 'job title': 'Programmer'}\n",
      "{'id': '11', 'first name': 'William', 'last name': 'Turner', 'age': '40', 'city': 'Seattle', 'job title': 'Manager'}\n",
      "{'id': '13', 'first name': 'James', 'last name': 'Robinson', 'age': '36', 'city': 'San Diego', 'job title': 'Consultant'}\n",
      "{'id': '15', 'first name': 'Joseph', 'last name': 'Lee', 'age': '33', 'city': 'Austin', 'job title': 'Scientist'}\n",
      "{'id': '17', 'first name': 'Andrew', 'last name': 'Harris', 'age': '34', 'city': 'San Jose', 'job title': 'Dentist'}\n",
      "{'id': '18', 'first name': 'Mia', 'last name': 'Thompson', 'age': '30', 'city': 'Nashville', 'job title': 'Pharmacist'}\n",
      "{'id': '19', 'first name': 'Thomas', 'last name': 'Young', 'age': '31', 'city': 'Columbus', 'job title': 'Chef'}\n",
      "{'id': '23', 'first name': 'Benjamin', 'last name': 'Lopez', 'age': '32', 'city': 'San Antonio', 'job title': 'Veterinarian'}\n",
      "{'id': '25', 'first name': 'Matthew', 'last name': 'Martin', 'age': '34', 'city': 'Baltimore', 'job title': 'Physical Therapist'}\n",
      "{'id': '27', 'first name': 'Christopher', 'last name': 'Adams', 'age': '31', 'city': 'Oklahoma City', 'job title': 'Banker'}\n",
      "{'id': '29', 'first name': 'Alexander', 'last name': 'Gonzalez', 'age': '33', 'city': 'New Orleans', 'job title': 'Mechanic'}\n",
      "{'id': '30', 'first name': 'Samantha', 'last name': 'Perez', 'age': '32', 'city': 'Cleveland', 'job title': 'Biologist'}\n"
     ]
    }
   ],
   "source": [
    "with open (\"./Data.csv\")as fp:\n",
    "    reader=csv.DictReader (fp)\n",
    "    for line in reader:\n",
    "        age= int (line [\"age\"])\n",
    "        if age>=30:\n",
    "        \n",
    "            print(line)\n",
    "            "
   ]
  },
  {
   "cell_type": "code",
   "execution_count": 9,
   "metadata": {},
   "outputs": [
    {
     "name": "stdout",
     "output_type": "stream",
     "text": [
      "{'id': '4', 'first name': 'Alice', 'last name': 'Johnson', 'age': '31', 'city': 'Miami', 'job title': 'Doctor'}\n",
      "{'id': '9', 'first name': 'Michael', 'last name': 'White', 'age': '33', 'city': 'Houston', 'job title': 'Programmer'}\n",
      "{'id': '17', 'first name': 'Andrew', 'last name': 'Harris', 'age': '34', 'city': 'San Jose', 'job title': 'Dentist'}\n",
      "{'id': '18', 'first name': 'Mia', 'last name': 'Thompson', 'age': '30', 'city': 'Nashville', 'job title': 'Pharmacist'}\n",
      "{'id': '25', 'first name': 'Matthew', 'last name': 'Martin', 'age': '34', 'city': 'Baltimore', 'job title': 'Physical Therapist'}\n",
      "{'id': '29', 'first name': 'Alexander', 'last name': 'Gonzalez', 'age': '33', 'city': 'New Orleans', 'job title': 'Mechanic'}\n"
     ]
    }
   ],
   "source": [
    "with open (\"./Data.csv\")as fp:\n",
    "    reader=csv.DictReader (fp)\n",
    "    for line in reader:\n",
    "        age= int (line [\"age\"])\n",
    "        firstname = (line[\"first name\"])\n",
    "        startswithA = firstname.startswith (\"A\")\n",
    "        startswithM = firstname.startswith (\"M\")\n",
    "        startswithAorM = startswithA or startswithM\n",
    "        if age>=30 and startswithAorM:\n",
    "            print(line)\n"
   ]
  },
  {
   "cell_type": "code",
   "execution_count": 16,
   "metadata": {},
   "outputs": [
    {
     "name": "stdout",
     "output_type": "stream",
     "text": [
      "{'id': '4', 'first name': 'Alice', 'last name': 'Johnson', 'age': '31', 'city': 'Miami', 'job title': 'Doctor'} -1 1\n",
      "{'id': '18', 'first name': 'Mia', 'last name': 'Thompson', 'age': '30', 'city': 'Nashville', 'job title': 'Pharmacist'} -1 2\n",
      "{'id': '29', 'first name': 'Alexander', 'last name': 'Gonzalez', 'age': '33', 'city': 'New Orleans', 'job title': 'Mechanic'} -1 1\n"
     ]
    }
   ],
   "source": [
    "with open (\"./Data.csv\")as fp:\n",
    "    reader=csv.DictReader (fp)\n",
    "    for line in reader:\n",
    "        age= int (line [\"age\"])\n",
    "        firstname = (line[\"first name\"])\n",
    "        startswithA = firstname.startswith (\"A\")\n",
    "        startswithM = firstname.startswith (\"M\")\n",
    "        startswithAorM = startswithA or startswithM\n",
    "        if age>=30 and startswithAorM:\n",
    "            surname = (line [\"last name\"])\n",
    "            containsO = surname.find (\"O\")\n",
    "            containso = surname.find (\"o\")\n",
    "            if containsO >=0 or containso >=0:\n",
    "                print(line,containsO, containso)\n",
    "            "
   ]
  },
  {
   "cell_type": "code",
   "execution_count": 24,
   "metadata": {},
   "outputs": [
    {
     "name": "stdout",
     "output_type": "stream",
     "text": [
      "{'id': '4', 'first name': 'Alice', 'last name': 'Johnson', 'age': '31', 'city': 'Miami', 'job title': 'Doctor'} False True\n",
      "{'id': '18', 'first name': 'Mia', 'last name': 'Thompson', 'age': '30', 'city': 'Nashville', 'job title': 'Pharmacist'} False True\n",
      "{'id': '29', 'first name': 'Alexander', 'last name': 'Gonzalez', 'age': '33', 'city': 'New Orleans', 'job title': 'Mechanic'} False True\n"
     ]
    }
   ],
   "source": [
    "with open (\"./Data.csv\")as fp:\n",
    "    reader=csv.DictReader (fp)\n",
    "    for line in reader:\n",
    "        age= int (line [\"age\"])\n",
    "        firstname = (line[\"first name\"])\n",
    "        startswithA = firstname.startswith (\"A\")\n",
    "        startswithM = firstname.startswith (\"M\")\n",
    "        startswithAorM = startswithA or startswithM\n",
    "        surname = (line [\"last name\"])\n",
    "        containsO = surname.find (\"O\")>=0\n",
    "        containso = surname.find (\"o\")>=0\n",
    "        if age>=30 and startswithAorM and (containso or containsO):\n",
    "            print(line,containsO, containso)\n",
    "            "
   ]
  }
 ],
 "metadata": {
  "kernelspec": {
   "display_name": ".venv",
   "language": "python",
   "name": "python3"
  },
  "language_info": {
   "codemirror_mode": {
    "name": "ipython",
    "version": 3
   },
   "file_extension": ".py",
   "mimetype": "text/x-python",
   "name": "python",
   "nbconvert_exporter": "python",
   "pygments_lexer": "ipython3",
   "version": "3.10.8"
  }
 },
 "nbformat": 4,
 "nbformat_minor": 2
}
